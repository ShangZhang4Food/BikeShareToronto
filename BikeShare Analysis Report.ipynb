{
 "cells": [
  {
   "cell_type": "markdown",
   "metadata": {},
   "source": [
    "## BikeShare Toronto Analysis Report\n",
    "\n",
    "The objective of this Jupyter Notebook is threefold as shown in the following bullet points. The structure of this notebook will also follow the same sections. \n",
    "1.\tShort-term ridership modelling: Model the daily Bike Share ridership based on various features such as holiday, weekend, temperature, precipitation, etc. This model is appropriate for predicting the next-day ridership, given the weather forecast information is available.\n",
    "2.\tLong-term ridership modelling: Build a long-term ridership model to forecast the 2021 ridership without knowing the weather forecast in advance. This long-term forecast can provide insights to long-term planning activities, such as resources allocation and infrastructure investment.\n",
    "3.\tBike Share dock placement: Model the ridership generation at each Bike Share station to inform the business which area needs investment in infrastructure to avoid losing ridership. \n"
   ]
  },
  {
   "cell_type": "markdown",
   "metadata": {},
   "source": [
    "### Section 1. Loading and Cleaning Data"
   ]
  },
  {
   "cell_type": "code",
   "execution_count": 1,
   "metadata": {},
   "outputs": [],
   "source": [
    "# Load the necessary basic libraries.\n",
    "import numpy as np\n",
    "import pandas as pd\n",
    "import seaborn as sns\n",
    "import warnings\n",
    "import calendar\n",
    "import matplotlib.pyplot as plt\n",
    "warnings.filterwarnings('ignore')\n",
    "\n",
    "# Load the libraries for linear regression\n",
    "from scipy import stats\n",
    "from datetime import datetime\n",
    "from sklearn import preprocessing\n",
    "from sklearn.model_selection import KFold\n",
    "from sklearn.linear_model import LinearRegression\n",
    "from sklearn.metrics import mean_squared_error\n",
    "from sklearn.metrics import classification_report\n",
    "import statsmodels.api as sm\n",
    "\n",
    "# Load the libraries for neural network\n",
    "from sklearn.model_selection import train_test_split\n",
    "from sklearn.datasets import make_classification as mc\n",
    "from sklearn.svm import SVC\n",
    "import time"
   ]
  },
  {
   "cell_type": "code",
   "execution_count": 2,
   "metadata": {},
   "outputs": [],
   "source": [
    "# Load the 2020 dataset. \n",
    "df1 = pd.read_csv('BikeShareRidership - 2020/2020-01.csv')\n",
    "df2 = pd.read_csv('BikeShareRidership - 2020/2020-02.csv')\n",
    "df3 = pd.read_csv('BikeShareRidership - 2020/2020-03.csv')\n",
    "df4 = pd.read_csv('BikeShareRidership - 2020/2020-04.csv')\n",
    "df5 = pd.read_csv('BikeShareRidership - 2020/2020-05.csv')\n",
    "df6 = pd.read_csv('BikeShareRidership - 2020/2020-06.csv')\n",
    "df7 = pd.read_csv('BikeShareRidership - 2020/2020-07.csv')\n",
    "df8 = pd.read_csv('BikeShareRidership - 2020/2020-08.csv')\n",
    "df9 = pd.read_csv('BikeShareRidership - 2020/2020-09.csv')\n",
    "df10 = pd.read_csv('BikeShareRidership - 2020/2020-10.csv')\n",
    "\n",
    "# Clean up df10\n",
    "df_dirty = df10[df10['User Type'].isnull()]\n",
    "df_clean = df10[df10['User Type'].notnull()]\n",
    "df_dirty['User Type'] = df_dirty['Bike Id']\n",
    "df_dirty['Bike Id'] = df_dirty['End Station Name']\n",
    "df_dirty['End Station Name'] = df_dirty['End Time']\n",
    "df_dirty['End Time'] = df_dirty['End Station Id']\n",
    "df_dirty['End Station Id'] = df_dirty['Start Station Name']\n",
    "df_dirty['Start Station Name'] = df_dirty['Start Time']\n",
    "df_dirty['Start Time'] = df_dirty['Start Station Id']\n",
    "df_dirty['Start Station Id'] = df_dirty['Trip  Duration']\n",
    "\n",
    "# Convert the data type of the start and end time to datetime variables, in order to calculate the missing trip duration. \n",
    "df_dirty['Start Time']  =  pd.to_datetime(df_dirty['Start Time'], format='%m/%d/%Y %H:%M')\n",
    "df_dirty['End Time']  =  pd.to_datetime(df_dirty['End Time'], format='%m/%d/%Y %H:%M')\n",
    "df_dirty['Trip  Duration'] = (df_dirty['End Time'] - df_dirty['Start Time']).astype('timedelta64[s]')\n",
    "df_dirty.columns = ['trip_id', 'trip_duration_seconds', 'from_station_id', 'trip_start_time', 'from_station_name', \\\n",
    "                   'to_station_id', 'trip_stop_time', 'to_station_name', 'bike_id', 'user_type']\n",
    "\n",
    "df11 = pd.read_csv('BikeShareRidership - 2020/2020-11.csv')\n",
    "df12 = pd.read_csv('BikeShareRidership - 2020/2020-12.csv')\n",
    "frames = [df1, df2, df3, df4, df5, df6, df7, df8, df9, df_clean, df11, df12]\n",
    "df_2020 = pd.concat(frames)\n",
    "\n",
    "# Update the column names to be matched with other dataframes. \n",
    "df_2020.columns = ['trip_id', 'trip_duration_seconds', 'from_station_id', 'trip_start_time', 'from_station_name', \\\n",
    "                   'to_station_id', 'trip_stop_time', 'to_station_name', 'bike_id', 'user_type']\n",
    "\n",
    "# Convert the data type of the start and end time to datetime variables. \n",
    "df_2020['trip_start_time']  =  pd.to_datetime(df_2020['trip_start_time'], format='%m/%d/%Y %H:%M')\n",
    "df_2020['trip_stop_time']  =  pd.to_datetime(df_2020['trip_stop_time'], format='%m/%d/%Y %H:%M')\n",
    "\n",
    "# Merge the dirty 10th month data in.\n",
    "frames = [df_2020, df_dirty]\n",
    "df_2020 = pd.concat(frames)\n",
    "\n",
    "# Update the year.\n",
    "df_2020['year'] = 2020"
   ]
  },
  {
   "cell_type": "code",
   "execution_count": 3,
   "metadata": {},
   "outputs": [],
   "source": [
    "# Load the 2019 dataset. \n",
    "df1 = pd.read_csv('BikeShareRidership - 2019/2019-Q1.csv')\n",
    "df2 = pd.read_csv('BikeShareRidership - 2019/2019-Q2.csv')\n",
    "df3 = pd.read_csv('BikeShareRidership - 2019/2019-Q3.csv')\n",
    "df4 = pd.read_csv('BikeShareRidership - 2019/2019-Q4.csv')\n",
    "frames = [df1, df2, df3, df4]\n",
    "df_2019 = pd.concat(frames)\n",
    "\n",
    "# Convert the data type of the start and end time to datetime variables. \n",
    "df_2019['Start Time']  =  pd.to_datetime(df_2019['Start Time'], format='%m/%d/%Y %H:%M')\n",
    "df_2019['End Time']  =  pd.to_datetime(df_2019['End Time'], format='%m/%d/%Y %H:%M')\n",
    "\n",
    "# Update the column names to be matched with other dataframes. \n",
    "df_2019.columns = ['trip_id', 'trip_duration_seconds', 'from_station_id', 'trip_start_time', 'from_station_name', \\\n",
    "                   'to_station_id', 'trip_stop_time', 'to_station_name', 'bike_id', 'user_type']\n",
    "df_2019['year'] = 2019"
   ]
  },
  {
   "cell_type": "code",
   "execution_count": 4,
   "metadata": {},
   "outputs": [],
   "source": [
    "# Load the 2018 dataset. \n",
    "df1 = pd.read_csv('BikeShareRidership - 2018/Bike Share Toronto Ridership_Q1 2018.csv')\n",
    "df2 = pd.read_csv('BikeShareRidership - 2018/Bike Share Toronto Ridership_Q2 2018.csv')\n",
    "df3 = pd.read_csv('BikeShareRidership - 2018/Bike Share Toronto Ridership_Q3 2018.csv')\n",
    "df4 = pd.read_csv('BikeShareRidership - 2018/Bike Share Toronto Ridership_Q4 2018.csv')\n",
    "frames = [df1, df2, df3, df4]\n",
    "df_2018 = pd.concat(frames)\n",
    "\n",
    "# Convert the data type of the start and end time to datetime variables. \n",
    "df_2018['trip_start_time']  =  pd.to_datetime(df_2018['trip_start_time'], format='%m/%d/%Y %H:%M')\n",
    "df_2018['trip_stop_time']  =  pd.to_datetime(df_2018['trip_stop_time'], format='%m/%d/%Y %H:%M')\n",
    "\n",
    "df_2018['year'] = 2018"
   ]
  },
  {
   "cell_type": "code",
   "execution_count": 5,
   "metadata": {},
   "outputs": [],
   "source": [
    "# Load the 2017 dataset. \n",
    "df1 = pd.read_csv('BikeShareRidership - 2017/Bikeshare Ridership (2017 Q1).csv')\n",
    "df1['trip_start_time']  =  pd.to_datetime(df1['trip_start_time'], format='%d/%m/%Y %H:%M')\n",
    "df1['trip_stop_time']  =  pd.to_datetime(df1['trip_stop_time'], format='%d/%m/%Y %H:%M')\n",
    "\n",
    "df2 = pd.read_csv('BikeShareRidership - 2017/Bikeshare Ridership (2017 Q2).csv')\n",
    "df2['trip_start_time']  =  pd.to_datetime(df2['trip_start_time'], format='%d/%m/%Y %H:%M')\n",
    "df2['trip_stop_time']  =  pd.to_datetime(df2['trip_stop_time'], format='%d/%m/%Y %H:%M')\n",
    "\n",
    "df3 = pd.read_csv('BikeShareRidership - 2017/Bikeshare Ridership (2017 Q3).csv')\n",
    "df3['trip_start_time']  =  pd.to_datetime(df3['trip_start_time'], format='%m/%d/%Y %H:%M')\n",
    "df3['trip_stop_time']  =  pd.to_datetime(df3['trip_stop_time'], format='%m/%d/%Y %H:%M')\n",
    "\n",
    "df4 = pd.read_csv('BikeShareRidership - 2017/Bikeshare Ridership (2017 Q4).csv')\n",
    "df4 = df4[df4.trip_stop_time != 'NULLNULL']\n",
    "df4['trip_start_time']  =  pd.to_datetime(df4['trip_start_time'], format='%m/%d/%y %H:%M:%S')\n",
    "df4['trip_stop_time']  =  pd.to_datetime(df4['trip_stop_time'], format='%m/%d/%y %H:%M:%S')\n",
    "\n",
    "frames = [df1, df2, df3, df4]\n",
    "df_2017 = pd.concat(frames)\n",
    "\n",
    "df_2017['year'] = 2017"
   ]
  },
  {
   "cell_type": "code",
   "execution_count": 6,
   "metadata": {},
   "outputs": [
    {
     "data": {
      "text/html": [
       "<div>\n",
       "<style scoped>\n",
       "    .dataframe tbody tr th:only-of-type {\n",
       "        vertical-align: middle;\n",
       "    }\n",
       "\n",
       "    .dataframe tbody tr th {\n",
       "        vertical-align: top;\n",
       "    }\n",
       "\n",
       "    .dataframe thead th {\n",
       "        text-align: right;\n",
       "    }\n",
       "</style>\n",
       "<table border=\"1\" class=\"dataframe\">\n",
       "  <thead>\n",
       "    <tr style=\"text-align: right;\">\n",
       "      <th></th>\n",
       "      <th>trip_id</th>\n",
       "      <th>trip_start_time</th>\n",
       "      <th>trip_stop_time</th>\n",
       "      <th>trip_duration_seconds</th>\n",
       "      <th>from_station_id</th>\n",
       "      <th>from_station_name</th>\n",
       "      <th>to_station_id</th>\n",
       "      <th>to_station_name</th>\n",
       "      <th>user_type</th>\n",
       "      <th>year</th>\n",
       "      <th>bike_id</th>\n",
       "    </tr>\n",
       "  </thead>\n",
       "  <tbody>\n",
       "    <tr>\n",
       "      <th>0</th>\n",
       "      <td>712382</td>\n",
       "      <td>2017-01-01 00:00:00</td>\n",
       "      <td>2017-01-01 00:03:00</td>\n",
       "      <td>223.0</td>\n",
       "      <td>7051</td>\n",
       "      <td>Wellesley St E / Yonge St Green P</td>\n",
       "      <td>7089</td>\n",
       "      <td>Church St  / Wood St</td>\n",
       "      <td>Member</td>\n",
       "      <td>2017</td>\n",
       "      <td>NaN</td>\n",
       "    </tr>\n",
       "    <tr>\n",
       "      <th>1</th>\n",
       "      <td>712383</td>\n",
       "      <td>2017-01-01 00:00:00</td>\n",
       "      <td>2017-01-01 00:05:00</td>\n",
       "      <td>279.0</td>\n",
       "      <td>7143</td>\n",
       "      <td>Kendal Ave / Bernard Ave</td>\n",
       "      <td>7154</td>\n",
       "      <td>Bathurst Subway Station</td>\n",
       "      <td>Member</td>\n",
       "      <td>2017</td>\n",
       "      <td>NaN</td>\n",
       "    </tr>\n",
       "    <tr>\n",
       "      <th>2</th>\n",
       "      <td>712384</td>\n",
       "      <td>2017-01-01 00:05:00</td>\n",
       "      <td>2017-01-01 00:29:00</td>\n",
       "      <td>1394.0</td>\n",
       "      <td>7113</td>\n",
       "      <td>Parliament St / Aberdeen Ave</td>\n",
       "      <td>7199</td>\n",
       "      <td>College St W / Markham St</td>\n",
       "      <td>Member</td>\n",
       "      <td>2017</td>\n",
       "      <td>NaN</td>\n",
       "    </tr>\n",
       "    <tr>\n",
       "      <th>3</th>\n",
       "      <td>712385</td>\n",
       "      <td>2017-01-01 00:07:00</td>\n",
       "      <td>2017-01-01 00:21:00</td>\n",
       "      <td>826.0</td>\n",
       "      <td>7077</td>\n",
       "      <td>College Park South</td>\n",
       "      <td>7010</td>\n",
       "      <td>King St W / Spadina Ave</td>\n",
       "      <td>Member</td>\n",
       "      <td>2017</td>\n",
       "      <td>NaN</td>\n",
       "    </tr>\n",
       "    <tr>\n",
       "      <th>4</th>\n",
       "      <td>712386</td>\n",
       "      <td>2017-01-01 00:08:00</td>\n",
       "      <td>2017-01-01 00:12:00</td>\n",
       "      <td>279.0</td>\n",
       "      <td>7079</td>\n",
       "      <td>McGill St / Church St</td>\n",
       "      <td>7047</td>\n",
       "      <td>University Ave / Gerrard St W</td>\n",
       "      <td>Member</td>\n",
       "      <td>2017</td>\n",
       "      <td>NaN</td>\n",
       "    </tr>\n",
       "  </tbody>\n",
       "</table>\n",
       "</div>"
      ],
      "text/plain": [
       "   trip_id     trip_start_time      trip_stop_time  trip_duration_seconds  \\\n",
       "0   712382 2017-01-01 00:00:00 2017-01-01 00:03:00                  223.0   \n",
       "1   712383 2017-01-01 00:00:00 2017-01-01 00:05:00                  279.0   \n",
       "2   712384 2017-01-01 00:05:00 2017-01-01 00:29:00                 1394.0   \n",
       "3   712385 2017-01-01 00:07:00 2017-01-01 00:21:00                  826.0   \n",
       "4   712386 2017-01-01 00:08:00 2017-01-01 00:12:00                  279.0   \n",
       "\n",
       "  from_station_id                  from_station_name to_station_id  \\\n",
       "0            7051  Wellesley St E / Yonge St Green P          7089   \n",
       "1            7143           Kendal Ave / Bernard Ave          7154   \n",
       "2            7113       Parliament St / Aberdeen Ave          7199   \n",
       "3            7077                 College Park South          7010   \n",
       "4            7079              McGill St / Church St          7047   \n",
       "\n",
       "                 to_station_name user_type  year bike_id  \n",
       "0           Church St  / Wood St    Member  2017     NaN  \n",
       "1        Bathurst Subway Station    Member  2017     NaN  \n",
       "2      College St W / Markham St    Member  2017     NaN  \n",
       "3        King St W / Spadina Ave    Member  2017     NaN  \n",
       "4  University Ave / Gerrard St W    Member  2017     NaN  "
      ]
     },
     "execution_count": 6,
     "metadata": {},
     "output_type": "execute_result"
    }
   ],
   "source": [
    "# Merge the dataframes into one for further analysis.\n",
    "frames = [df_2017, df_2018, df_2019, df_2020]\n",
    "df_total = pd.concat(frames)\n",
    "df_total.head(5)"
   ]
  },
  {
   "cell_type": "code",
   "execution_count": 7,
   "metadata": {},
   "outputs": [],
   "source": [
    "# df_total.to_csv('BikeShare Total Ridership.csv', index = False) "
   ]
  },
  {
   "cell_type": "code",
   "execution_count": 8,
   "metadata": {},
   "outputs": [
    {
     "data": {
      "text/plain": [
       "trip_id                           int64\n",
       "trip_start_time          datetime64[ns]\n",
       "trip_stop_time           datetime64[ns]\n",
       "trip_duration_seconds           float64\n",
       "from_station_id                  object\n",
       "from_station_name                object\n",
       "to_station_id                    object\n",
       "to_station_name                  object\n",
       "user_type                        object\n",
       "year                              int64\n",
       "bike_id                          object\n",
       "dtype: object"
      ]
     },
     "execution_count": 8,
     "metadata": {},
     "output_type": "execute_result"
    }
   ],
   "source": [
    "# Check the data types of all variables\n",
    "df_total.dtypes"
   ]
  },
  {
   "cell_type": "markdown",
   "metadata": {},
   "source": [
    "### Section 2 Descriptive Analytics\n",
    "\n",
    "We explore the dataset through a descriptive analytics approach that carefully examines each variable included in the dataset. "
   ]
  },
  {
   "cell_type": "code",
   "execution_count": 9,
   "metadata": {},
   "outputs": [
    {
     "data": {
      "text/plain": [
       "<AxesSubplot:title={'center':'Entering ridership at different time of the day between 2017 to 2020'}, xlabel='start_hour'>"
      ]
     },
     "execution_count": 9,
     "metadata": {},
     "output_type": "execute_result"
    },
    {
     "data": {
      "image/png": "[encoded data removed]",
      "text/plain": [
       "<Figure size 1080x576 with 1 Axes>"
      ]
     },
     "metadata": {
      "needs_background": "light"
     },
     "output_type": "display_data"
    }
   ],
   "source": [
    "### Variable - Start Time \n",
    "# Extract the hour the rider enter the system\n",
    "df_total['start_hour'] = df_total['trip_start_time'].dt.hour\n",
    "\n",
    "# Count the total number of riders at different time of the day between 2017 to 2020.\n",
    "starttime_pivot = df_total.pivot_table(values='trip_id', index=['year','start_hour'], aggfunc='count')\n",
    "starttime_pivot = starttime_pivot.reset_index()\n",
    "\n",
    "# Plot the grouped bar chart. \n",
    "starttime_pivot.pivot(index='start_hour', columns='year', \\\n",
    "                      values='trip_id').plot(kind='bar', figsize = (15,8), title = 'Entering ridership at different time of the day between 2017 to 2020')"
   ]
  },
  {
   "cell_type": "code",
   "execution_count": 10,
   "metadata": {},
   "outputs": [
    {
     "data": {
      "text/plain": [
       "<AxesSubplot:title={'center':'Exiting ridership at different time of the day between 2017 to 2020'}, xlabel='leave_hour'>"
      ]
     },
     "execution_count": 10,
     "metadata": {},
     "output_type": "execute_result"
    },
    {
     "data": {
      "image/png": "[encoded data removed]",
      "text/plain": [
       "<Figure size 1080x576 with 1 Axes>"
      ]
     },
     "metadata": {
      "needs_background": "light"
     },
     "output_type": "display_data"
    }
   ],
   "source": [
    "### Variable - End Time\n",
    "# Extract the hour the rider leave the system\n",
    "df_total['leave_hour'] = df_total['trip_stop_time'].dt.hour\n",
    "\n",
    "# Count the total number of riders at different time of the day between 2017 to 2020.\n",
    "stoptime_pivot = df_total.pivot_table(values='trip_id', index=['year','leave_hour'], aggfunc='count')\n",
    "stoptime_pivot = stoptime_pivot.reset_index()\n",
    "\n",
    "# Plot the grouped bar chart. \n",
    "stoptime_pivot.pivot(index='leave_hour', columns='year', \\\n",
    "                      values='trip_id').plot(kind='bar', figsize = (15,8), title = 'Exiting ridership at different time of the day between 2017 to 2020')"
   ]
  },
  {
   "cell_type": "code",
   "execution_count": 11,
   "metadata": {},
   "outputs": [
    {
     "data": {
      "text/html": [
       "<div>\n",
       "<style scoped>\n",
       "    .dataframe tbody tr th:only-of-type {\n",
       "        vertical-align: middle;\n",
       "    }\n",
       "\n",
       "    .dataframe tbody tr th {\n",
       "        vertical-align: top;\n",
       "    }\n",
       "\n",
       "    .dataframe thead th {\n",
       "        text-align: right;\n",
       "    }\n",
       "</style>\n",
       "<table border=\"1\" class=\"dataframe\">\n",
       "  <thead>\n",
       "    <tr style=\"text-align: right;\">\n",
       "      <th></th>\n",
       "      <th>year</th>\n",
       "      <th>trip_duration_seconds</th>\n",
       "    </tr>\n",
       "  </thead>\n",
       "  <tbody>\n",
       "    <tr>\n",
       "      <th>0</th>\n",
       "      <td>2017</td>\n",
       "      <td>1017.616609</td>\n",
       "    </tr>\n",
       "    <tr>\n",
       "      <th>1</th>\n",
       "      <td>2018</td>\n",
       "      <td>962.976018</td>\n",
       "    </tr>\n",
       "    <tr>\n",
       "      <th>2</th>\n",
       "      <td>2019</td>\n",
       "      <td>1044.853495</td>\n",
       "    </tr>\n",
       "    <tr>\n",
       "      <th>3</th>\n",
       "      <td>2020</td>\n",
       "      <td>1170.802402</td>\n",
       "    </tr>\n",
       "  </tbody>\n",
       "</table>\n",
       "</div>"
      ],
      "text/plain": [
       "   year  trip_duration_seconds\n",
       "0  2017            1017.616609\n",
       "1  2018             962.976018\n",
       "2  2019            1044.853495\n",
       "3  2020            1170.802402"
      ]
     },
     "execution_count": 11,
     "metadata": {},
     "output_type": "execute_result"
    }
   ],
   "source": [
    "### Trip Duration\n",
    "# Average trip duration in each year.\n",
    "duration_pivot = df_total.pivot_table(values='trip_duration_seconds', index=['year'], aggfunc = np.mean)\n",
    "duration_pivot = duration_pivot.reset_index()\n",
    "duration_pivot"
   ]
  },
  {
   "cell_type": "code",
   "execution_count": 12,
   "metadata": {},
   "outputs": [
    {
     "data": {
      "text/plain": [
       "<AxesSubplot:title={'center':'Average Trip Duation Every Month between 2017 to 2020'}, xlabel='month'>"
      ]
     },
     "execution_count": 12,
     "metadata": {},
     "output_type": "execute_result"
    },
    {
     "data": {
      "image/png": "[encoded data removed]",
      "text/plain": [
       "<Figure size 1080x576 with 1 Axes>"
      ]
     },
     "metadata": {
      "needs_background": "light"
     },
     "output_type": "display_data"
    }
   ],
   "source": [
    "# Extract the month the rider enters the system\n",
    "df_total['month'] = df_total['trip_start_time'].dt.month\n",
    "\n",
    "# Caluclate the average trip duration in each month.\n",
    "avgduration_pivot = df_total.pivot_table(values='trip_duration_seconds', index=['year','month'], aggfunc = np.mean)\n",
    "avgduration_pivot = avgduration_pivot.reset_index()\n",
    "\n",
    "# Plot the grouped bar chart. \n",
    "avgduration_pivot.pivot(index='month', columns='year', \\\n",
    "                      values='trip_duration_seconds').plot(kind='bar', figsize = (15,8), title = 'Average Trip Duation Every Month between 2017 to 2020')"
   ]
  },
  {
   "cell_type": "code",
   "execution_count": 13,
   "metadata": {},
   "outputs": [
    {
     "data": {
      "image/png": "[encoded data removed]",
      "text/plain": [
       "<Figure size 1080x576 with 4 Axes>"
      ]
     },
     "metadata": {
      "needs_background": "light"
     },
     "output_type": "display_data"
    }
   ],
   "source": [
    "# df_total['trip_duration_seconds'].hist(by=df_total['year'], figsize = (15,8), range=[0, 2000], bins =100, title = 'Distribution of trip duration between 2017 to 2020')\n",
    "ax = df_total['trip_duration_seconds'].hist(by=df_total['year'], figsize = (15,8), range=[0, 2000], bins =100)"
   ]
  },
  {
   "cell_type": "code",
   "execution_count": 14,
   "metadata": {},
   "outputs": [
    {
     "data": {
      "text/html": [
       "<div>\n",
       "<style scoped>\n",
       "    .dataframe tbody tr th:only-of-type {\n",
       "        vertical-align: middle;\n",
       "    }\n",
       "\n",
       "    .dataframe tbody tr th {\n",
       "        vertical-align: top;\n",
       "    }\n",
       "\n",
       "    .dataframe thead th {\n",
       "        text-align: right;\n",
       "    }\n",
       "</style>\n",
       "<table border=\"1\" class=\"dataframe\">\n",
       "  <thead>\n",
       "    <tr style=\"text-align: right;\">\n",
       "      <th></th>\n",
       "      <th>trip_id</th>\n",
       "      <th>trip_start_time</th>\n",
       "      <th>trip_stop_time</th>\n",
       "      <th>trip_duration_seconds</th>\n",
       "      <th>from_station_id</th>\n",
       "      <th>from_station_name</th>\n",
       "      <th>to_station_id</th>\n",
       "      <th>to_station_name</th>\n",
       "      <th>user_type</th>\n",
       "      <th>year</th>\n",
       "      <th>bike_id</th>\n",
       "      <th>start_hour</th>\n",
       "      <th>leave_hour</th>\n",
       "      <th>month</th>\n",
       "    </tr>\n",
       "  </thead>\n",
       "  <tbody>\n",
       "    <tr>\n",
       "      <th>0</th>\n",
       "      <td>712382</td>\n",
       "      <td>2017-01-01 00:00:00</td>\n",
       "      <td>2017-01-01 00:03:00</td>\n",
       "      <td>223.0</td>\n",
       "      <td>7051</td>\n",
       "      <td>Wellesley St E / Yonge St Green P</td>\n",
       "      <td>7089</td>\n",
       "      <td>Church St  / Wood St</td>\n",
       "      <td>Member</td>\n",
       "      <td>2017</td>\n",
       "      <td>NaN</td>\n",
       "      <td>0</td>\n",
       "      <td>0</td>\n",
       "      <td>1</td>\n",
       "    </tr>\n",
       "    <tr>\n",
       "      <th>1</th>\n",
       "      <td>712383</td>\n",
       "      <td>2017-01-01 00:00:00</td>\n",
       "      <td>2017-01-01 00:05:00</td>\n",
       "      <td>279.0</td>\n",
       "      <td>7143</td>\n",
       "      <td>Kendal Ave / Bernard Ave</td>\n",
       "      <td>7154</td>\n",
       "      <td>Bathurst Subway Station</td>\n",
       "      <td>Member</td>\n",
       "      <td>2017</td>\n",
       "      <td>NaN</td>\n",
       "      <td>0</td>\n",
       "      <td>0</td>\n",
       "      <td>1</td>\n",
       "    </tr>\n",
       "    <tr>\n",
       "      <th>2</th>\n",
       "      <td>712384</td>\n",
       "      <td>2017-01-01 00:05:00</td>\n",
       "      <td>2017-01-01 00:29:00</td>\n",
       "      <td>1394.0</td>\n",
       "      <td>7113</td>\n",
       "      <td>Parliament St / Aberdeen Ave</td>\n",
       "      <td>7199</td>\n",
       "      <td>College St W / Markham St</td>\n",
       "      <td>Member</td>\n",
       "      <td>2017</td>\n",
       "      <td>NaN</td>\n",
       "      <td>0</td>\n",
       "      <td>0</td>\n",
       "      <td>1</td>\n",
       "    </tr>\n",
       "    <tr>\n",
       "      <th>3</th>\n",
       "      <td>712385</td>\n",
       "      <td>2017-01-01 00:07:00</td>\n",
       "      <td>2017-01-01 00:21:00</td>\n",
       "      <td>826.0</td>\n",
       "      <td>7077</td>\n",
       "      <td>College Park South</td>\n",
       "      <td>7010</td>\n",
       "      <td>King St W / Spadina Ave</td>\n",
       "      <td>Member</td>\n",
       "      <td>2017</td>\n",
       "      <td>NaN</td>\n",
       "      <td>0</td>\n",
       "      <td>0</td>\n",
       "      <td>1</td>\n",
       "    </tr>\n",
       "    <tr>\n",
       "      <th>4</th>\n",
       "      <td>712386</td>\n",
       "      <td>2017-01-01 00:08:00</td>\n",
       "      <td>2017-01-01 00:12:00</td>\n",
       "      <td>279.0</td>\n",
       "      <td>7079</td>\n",
       "      <td>McGill St / Church St</td>\n",
       "      <td>7047</td>\n",
       "      <td>University Ave / Gerrard St W</td>\n",
       "      <td>Member</td>\n",
       "      <td>2017</td>\n",
       "      <td>NaN</td>\n",
       "      <td>0</td>\n",
       "      <td>0</td>\n",
       "      <td>1</td>\n",
       "    </tr>\n",
       "  </tbody>\n",
       "</table>\n",
       "</div>"
      ],
      "text/plain": [
       "   trip_id     trip_start_time      trip_stop_time  trip_duration_seconds  \\\n",
       "0   712382 2017-01-01 00:00:00 2017-01-01 00:03:00                  223.0   \n",
       "1   712383 2017-01-01 00:00:00 2017-01-01 00:05:00                  279.0   \n",
       "2   712384 2017-01-01 00:05:00 2017-01-01 00:29:00                 1394.0   \n",
       "3   712385 2017-01-01 00:07:00 2017-01-01 00:21:00                  826.0   \n",
       "4   712386 2017-01-01 00:08:00 2017-01-01 00:12:00                  279.0   \n",
       "\n",
       "  from_station_id                  from_station_name to_station_id  \\\n",
       "0            7051  Wellesley St E / Yonge St Green P          7089   \n",
       "1            7143           Kendal Ave / Bernard Ave          7154   \n",
       "2            7113       Parliament St / Aberdeen Ave          7199   \n",
       "3            7077                 College Park South          7010   \n",
       "4            7079              McGill St / Church St          7047   \n",
       "\n",
       "                 to_station_name user_type  year bike_id  start_hour  \\\n",
       "0           Church St  / Wood St    Member  2017     NaN           0   \n",
       "1        Bathurst Subway Station    Member  2017     NaN           0   \n",
       "2      College St W / Markham St    Member  2017     NaN           0   \n",
       "3        King St W / Spadina Ave    Member  2017     NaN           0   \n",
       "4  University Ave / Gerrard St W    Member  2017     NaN           0   \n",
       "\n",
       "   leave_hour  month  \n",
       "0           0      1  \n",
       "1           0      1  \n",
       "2           0      1  \n",
       "3           0      1  \n",
       "4           0      1  "
      ]
     },
     "execution_count": 14,
     "metadata": {},
     "output_type": "execute_result"
    }
   ],
   "source": [
    "# Number of stations in each year\n",
    "df_total.head(5)"
   ]
  },
  {
   "cell_type": "code",
   "execution_count": 15,
   "metadata": {},
   "outputs": [
    {
     "data": {
      "text/html": [
       "<div>\n",
       "<style scoped>\n",
       "    .dataframe tbody tr th:only-of-type {\n",
       "        vertical-align: middle;\n",
       "    }\n",
       "\n",
       "    .dataframe tbody tr th {\n",
       "        vertical-align: top;\n",
       "    }\n",
       "\n",
       "    .dataframe thead th {\n",
       "        text-align: right;\n",
       "    }\n",
       "</style>\n",
       "<table border=\"1\" class=\"dataframe\">\n",
       "  <thead>\n",
       "    <tr style=\"text-align: right;\">\n",
       "      <th></th>\n",
       "      <th>station_id</th>\n",
       "      <th>station_name</th>\n",
       "      <th>year</th>\n",
       "      <th>activity</th>\n",
       "    </tr>\n",
       "  </thead>\n",
       "  <tbody>\n",
       "    <tr>\n",
       "      <th>0</th>\n",
       "      <td>7051</td>\n",
       "      <td>Wellesley St E / Yonge St Green P</td>\n",
       "      <td>2017</td>\n",
       "      <td>Origin</td>\n",
       "    </tr>\n",
       "    <tr>\n",
       "      <th>1</th>\n",
       "      <td>7143</td>\n",
       "      <td>Kendal Ave / Bernard Ave</td>\n",
       "      <td>2017</td>\n",
       "      <td>Origin</td>\n",
       "    </tr>\n",
       "    <tr>\n",
       "      <th>2</th>\n",
       "      <td>7113</td>\n",
       "      <td>Parliament St / Aberdeen Ave</td>\n",
       "      <td>2017</td>\n",
       "      <td>Origin</td>\n",
       "    </tr>\n",
       "    <tr>\n",
       "      <th>3</th>\n",
       "      <td>7077</td>\n",
       "      <td>College Park South</td>\n",
       "      <td>2017</td>\n",
       "      <td>Origin</td>\n",
       "    </tr>\n",
       "    <tr>\n",
       "      <th>4</th>\n",
       "      <td>7079</td>\n",
       "      <td>McGill St / Church St</td>\n",
       "      <td>2017</td>\n",
       "      <td>Origin</td>\n",
       "    </tr>\n",
       "  </tbody>\n",
       "</table>\n",
       "</div>"
      ],
      "text/plain": [
       "  station_id                       station_name  year activity\n",
       "0       7051  Wellesley St E / Yonge St Green P  2017   Origin\n",
       "1       7143           Kendal Ave / Bernard Ave  2017   Origin\n",
       "2       7113       Parliament St / Aberdeen Ave  2017   Origin\n",
       "3       7077                 College Park South  2017   Origin\n",
       "4       7079              McGill St / Church St  2017   Origin"
      ]
     },
     "execution_count": 15,
     "metadata": {},
     "output_type": "execute_result"
    }
   ],
   "source": [
    "# Number of active stations in each year\n",
    "from_station = df_total[['from_station_id', 'from_station_name', 'year']]\n",
    "to_station = df_total[['to_station_id', 'to_station_name', 'year']]\n",
    "\n",
    "from_station['activity'] = 'Origin'\n",
    "from_station.columns = ['station_id','station_name','year','activity']\n",
    "\n",
    "to_station['activity'] = 'Destination'\n",
    "to_station.columns = ['station_id','station_name','year','activity']\n",
    "\n",
    "frames = [from_station, to_station]\n",
    "stations_df = pd.concat(frames)\n",
    "\n",
    "stations_df.head(5)"
   ]
  },
  {
   "cell_type": "code",
   "execution_count": 16,
   "metadata": {},
   "outputs": [
    {
     "ename": "NameError",
     "evalue": "name 'top_stations_20187' is not defined",
     "output_type": "error",
     "traceback": [
      "\u001b[1;31m---------------------------------------------------------------------------\u001b[0m",
      "\u001b[1;31mNameError\u001b[0m                                 Traceback (most recent call last)",
      "\u001b[1;32m<ipython-input-16-0f655028cf8d>\u001b[0m in \u001b[0;36m<module>\u001b[1;34m\u001b[0m\n\u001b[0;32m     23\u001b[0m \u001b[0mtop_stations_2020\u001b[0m\u001b[1;33m.\u001b[0m\u001b[0mto_csv\u001b[0m\u001b[1;33m(\u001b[0m\u001b[1;34m'top_stations_2020.csv'\u001b[0m\u001b[1;33m,\u001b[0m \u001b[0mindex\u001b[0m \u001b[1;33m=\u001b[0m \u001b[1;32mFalse\u001b[0m\u001b[1;33m)\u001b[0m\u001b[1;33m\u001b[0m\u001b[1;33m\u001b[0m\u001b[0m\n\u001b[0;32m     24\u001b[0m \u001b[1;33m\u001b[0m\u001b[0m\n\u001b[1;32m---> 25\u001b[1;33m \u001b[0mpd\u001b[0m\u001b[1;33m.\u001b[0m\u001b[0mconcat\u001b[0m\u001b[1;33m(\u001b[0m\u001b[1;33m[\u001b[0m\u001b[0mtop_stations_2017\u001b[0m\u001b[1;33m.\u001b[0m\u001b[0mhead\u001b[0m\u001b[1;33m(\u001b[0m\u001b[1;36m10\u001b[0m\u001b[1;33m)\u001b[0m\u001b[1;33m,\u001b[0m \u001b[0mtop_stations_20187\u001b[0m\u001b[1;33m.\u001b[0m\u001b[0mhead\u001b[0m\u001b[1;33m(\u001b[0m\u001b[1;36m10\u001b[0m\u001b[1;33m)\u001b[0m\u001b[1;33m,\u001b[0m \u001b[0mtop_stations_20197\u001b[0m\u001b[1;33m.\u001b[0m\u001b[0mhead\u001b[0m\u001b[1;33m(\u001b[0m\u001b[1;36m10\u001b[0m\u001b[1;33m)\u001b[0m\u001b[1;33m,\u001b[0m \u001b[0mtop_stations_20207\u001b[0m\u001b[1;33m.\u001b[0m\u001b[0mhead\u001b[0m\u001b[1;33m(\u001b[0m\u001b[1;36m10\u001b[0m\u001b[1;33m)\u001b[0m\u001b[1;33m]\u001b[0m\u001b[1;33m,\u001b[0m \u001b[0maxis\u001b[0m\u001b[1;33m=\u001b[0m\u001b[1;36m1\u001b[0m\u001b[1;33m)\u001b[0m\u001b[1;33m\u001b[0m\u001b[1;33m\u001b[0m\u001b[0m\n\u001b[0m",
      "\u001b[1;31mNameError\u001b[0m: name 'top_stations_20187' is not defined"
     ]
    }
   ],
   "source": [
    "### Identify the stations with highest shared bike traffic in each year. \n",
    "stations_2017 = stations_df[stations_df['year'] == 2017]\n",
    "stations_2018 = stations_df[stations_df['year'] == 2018]\n",
    "stations_2019 = stations_df[stations_df['year'] == 2019]\n",
    "stations_2020 = stations_df[stations_df['year'] == 2020]\n",
    "\n",
    "top_stations_2017 = stations_2017.pivot_table(values='activity', index=['station_name'], \\\n",
    "                                              aggfunc = 'count').sort_values('activity', ascending=False)\n",
    "top_stations_2017 = top_stations_2017.reset_index()\n",
    "top_stations_2018 = stations_2018.pivot_table(values='activity', index=['station_name'], \\\n",
    "                                              aggfunc = 'count').sort_values('activity', ascending=False)\n",
    "top_stations_2018 = top_stations_2018.reset_index()\n",
    "top_stations_2019 = stations_2019.pivot_table(values='activity', index=['station_name'], \\\n",
    "                                              aggfunc = 'count').sort_values('activity', ascending=False)\n",
    "top_stations_2019 = top_stations_2019.reset_index()\n",
    "top_stations_2020 = stations_2020.pivot_table(values='activity', index=['station_name'], \\\n",
    "                                              aggfunc = 'count').sort_values('activity', ascending=False)\n",
    "top_stations_2020 = top_stations_2020.reset_index()\n",
    "\n",
    "top_stations_2017.to_csv('top_stations_2017.csv', index = False) \n",
    "top_stations_2018.to_csv('top_stations_2018.csv', index = False) \n",
    "top_stations_2019.to_csv('top_stations_2019.csv', index = False) \n",
    "top_stations_2020.to_csv('top_stations_2020.csv', index = False) \n",
    "\n",
    "pd.concat([top_stations_2017.head(10), top_stations_2018.head(10), top_stations_20197.head(10), top_stations_20207.head(10)], axis=1)"
   ]
  },
  {
   "cell_type": "code",
   "execution_count": null,
   "metadata": {},
   "outputs": [],
   "source": [
    "# Calculate the total number of available stations between 2017 - 2020. \n",
    "num_stations = stations_df.groupby('year')['station_id'].nunique()\n",
    "num_stations = pd.DataFrame({'year':num_stations.index, 'num_stations':num_stations.values})\n",
    "\n",
    "# Calculate the total number of visits per station between 2017 - 2020.\n",
    "num_stations_v0 = stations_df.pivot_table(values='activity', index=['year'], aggfunc = 'count')\n",
    "num_stations_v0 = num_stations_v0.reset_index()\n",
    "\n",
    "num_stations = pd.merge(num_stations_v0, num_stations, on = 'year', how='inner')\n",
    "\n",
    "num_stations['ridership_perday'] = num_stations['activity']/(2*365)\n",
    "num_stations['avg_visits_perday'] = round(num_stations['activity']/(num_stations['num_stations']*365),2)\n",
    "num_stations"
   ]
  },
  {
   "cell_type": "code",
   "execution_count": null,
   "metadata": {},
   "outputs": [],
   "source": [
    "# User Type\n",
    "# Calculate the total usage of different membership types between 2017 - 2020.\n",
    "df_total['monthly_index'] = (df_total['year']-2017)*12 + df_total['month']\n",
    "user_type = df_total.pivot_table(values='trip_id', index=['monthly_index', 'user_type'], aggfunc = 'count')\n",
    "user_type = user_type.reset_index()\n",
    "\n",
    "user_type"
   ]
  },
  {
   "cell_type": "code",
   "execution_count": null,
   "metadata": {},
   "outputs": [],
   "source": [
    "user_type.loc[user_type['user_type'] == 'Casual', 'user_type'] = 'Casual Member' \n",
    "user_type.loc[user_type['user_type'] == 'Member', 'user_type'] = 'Annual Member' \n",
    "\n",
    "user_type"
   ]
  },
  {
   "cell_type": "code",
   "execution_count": null,
   "metadata": {},
   "outputs": [],
   "source": [
    "# Plot the grouped bar chart. \n",
    "user_type.pivot(index='monthly_index', columns='user_type', \\\n",
    "                      values='trip_id').plot(kind='bar', figsize = (15,8), title = 'Ridership split based on membership type between 2017 to 2020')"
   ]
  },
  {
   "cell_type": "markdown",
   "metadata": {},
   "source": [
    "### Section 2 Long-term ridership modelling\n",
    "\n",
    "Build a long-term ridership model to forecast the 2021 ridership without knowing the weather forecast in advance. This long-term forecast can provide insights to long-term planning activities, such as resources allocation and infrastructure investment."
   ]
  },
  {
   "cell_type": "code",
   "execution_count": null,
   "metadata": {},
   "outputs": [],
   "source": [
    "df_total.head(5)"
   ]
  },
  {
   "cell_type": "code",
   "execution_count": null,
   "metadata": {},
   "outputs": [],
   "source": [
    "# Make the membership type consistent in the df_total.\n",
    "df_total.loc[df_total['user_type'] == 'Casual', 'user_type'] = 'Casual Member' \n",
    "df_total.loc[df_total['user_type'] == 'Member', 'user_type'] = 'Annual Member' \n",
    "\n",
    "# Count the ridership \n",
    "ridership_df = df_total.pivot_table(values='trip_id', index=['year', 'month','user_type'], aggfunc = 'count')\n",
    "ridership_df = ridership_df.reset_index()\n",
    "ridership_df['date'] = pd.to_datetime((ridership_df.year*10000+ridership_df.month*100+1).apply(str),format='%Y%m%d')\n",
    "\n",
    "# Split the ridership dataframe into member and casual riderships\n",
    "member_ridership = ridership_df[ridership_df['user_type'] == 'Annual Member']\n",
    "casual_ridership = ridership_df[ridership_df['user_type'] == 'Casual Member']\n",
    "\n",
    "# Assign the first day of the month as the date. \n",
    "member_ridership['date'] = pd.to_datetime((member_ridership.year*10000+member_ridership.month*100+1).apply(str),format='%Y%m%d')\n",
    "casual_ridership['date'] = pd.to_datetime((casual_ridership.year*10000+casual_ridership.month*100+1).apply(str),format='%Y%m%d')"
   ]
  },
  {
   "cell_type": "code",
   "execution_count": null,
   "metadata": {},
   "outputs": [],
   "source": [
    "plt.figure(figsize=(15, 8), dpi=300)\n",
    "plt.plot(member_ridership.date, member_ridership.trip_id, label = \"Member\")\n",
    "plt.plot(casual_ridership.date, casual_ridership.trip_id, label = \"Casual\")\n",
    "plt.xlabel('Month')\n",
    "# Set the y axis label of the current axis.\n",
    "plt.ylabel('Ridership')\n",
    "# Set a title of the current axes.\n",
    "plt.title('Monthly Member vs Casual Ridership between 2017 and 2020')\n",
    "# show a legend on the plot\n",
    "plt.legend()\n",
    "# Display a figure.\n",
    "plt.show()"
   ]
  },
  {
   "cell_type": "code",
   "execution_count": null,
   "metadata": {},
   "outputs": [],
   "source": [
    "### Obtain the number of active stations in each month\n",
    "# Extract only the station information\n",
    "from_station = df_total[['from_station_id', 'from_station_name', 'year', 'month']]\n",
    "to_station = df_total[['to_station_id', 'to_station_name', 'year', 'month']]\n",
    "\n",
    "# Identify the activity of using the specfic station. \n",
    "from_station['activity'] = 'Origin'\n",
    "from_station.columns = ['station_id','station_name','year','month','activity']\n",
    "to_station['activity'] = 'Destination'\n",
    "to_station.columns = ['station_id','station_name','year','month','activity']\n",
    "\n",
    "# Merge the two dataframes together. \n",
    "frames = [from_station, to_station]\n",
    "stations_df = pd.concat(frames)\n",
    "\n",
    "# Get the number of stations that have bike share activities each month.\n",
    "num_stations_month = stations_df.groupby(['year', 'month'])['station_name'].nunique()\n",
    "num_stations_month = pd.DataFrame({'year':num_stations_month.index.get_level_values('year'), \\\n",
    "                                   'month':num_stations_month.index.get_level_values('month'), \\\n",
    "                                   'num_stations':num_stations_month.values})\n",
    "\n",
    "# Make sure the number of stations in the later months is higher than the previous months.\n",
    "station_count = num_stations_month['num_stations']\n",
    "station_count2 = []\n",
    "a = []\n",
    "for i in station_count:\n",
    "    a.append(i)\n",
    "    station_count2.append(max(a))\n",
    "    \n",
    "# Assuming that almost all stations have at least one bike share activity each month\n",
    "# Then this will give us the actual number of stations each month. \n",
    "num_stations_month['actual_num_stations'] = station_count2\n",
    "\n",
    "del num_stations_month['num_stations']\n",
    "\n",
    "member_ridership = pd.merge(member_ridership, num_stations_month, on = ['year', 'month'], how='inner')\n",
    "casual_ridership = pd.merge(casual_ridership, num_stations_month, on = ['year', 'month'], how='inner')\n",
    "\n",
    "# Clean up the unnecessary columns.\n",
    "del member_ridership['user_type']\n",
    "del member_ridership['date']\n",
    "del casual_ridership['user_type']\n",
    "del casual_ridership['date']\n",
    "\n",
    "member_ridership['month'] = member_ridership['month'].apply(lambda x: calendar.month_abbr[x])\n",
    "casual_ridership['month'] = casual_ridership['month'].apply(lambda x: calendar.month_abbr[x])\n",
    "\n",
    "# Formulate the dataframe for long term member ridership forecasting. \n",
    "long_term_member_df = pd.get_dummies(member_ridership)\n",
    "long_term_casual_df = pd.get_dummies(casual_ridership)\n",
    "\n",
    "# Create one-year lag variable.\n",
    "long_term_member_df['one_year_lag'] = long_term_member_df.trip_id.shift(12)\n",
    "long_term_member_df.one_year_lag.fillna(long_term_member_df.trip_id, inplace=True)\n",
    "long_term_casual_df['one_year_lag'] = long_term_casual_df.trip_id.shift(12)\n",
    "long_term_casual_df.one_year_lag.fillna(long_term_casual_df.trip_id, inplace=True)"
   ]
  },
  {
   "cell_type": "code",
   "execution_count": null,
   "metadata": {},
   "outputs": [],
   "source": [
    "### Cross validating the regression model for long-term member ridership\n",
    "X = long_term_member_df.iloc[:, 2:]\n",
    "X['const'] = 1\n",
    "y = long_term_member_df.iloc[:, 1]\n",
    "\n",
    "model = LinearRegression()\n",
    "R2s = []\n",
    "RMSEs = []\n",
    "kfold = KFold(n_splits=4, shuffle=True, random_state=42)\n",
    "for i, (train, test) in enumerate(kfold.split(X, y)):\n",
    "    model.fit(X.iloc[train,:], y.iloc[train])\n",
    "    # Obtain the R squared score\n",
    "    score = model.score(X.iloc[test,:], y.iloc[test])\n",
    "    R2s.append(score)\n",
    "    \n",
    "    # Obtain the RMSE of the model\n",
    "    y_pred = model.predict(X.iloc[test,:])\n",
    "    rms = mean_squared_error(y.iloc[test], y_pred, squared=False)\n",
    "    RMSEs.append(rms)\n",
    "print(\"The R squared of k-fold cross validation scores are:\", R2s)\n",
    "print(\"The RMSE of k-fold cross validation scores are:\", RMSEs)"
   ]
  },
  {
   "cell_type": "code",
   "execution_count": null,
   "metadata": {},
   "outputs": [],
   "source": [
    "# Since the prediction accuracy is pretty good as shown in the cross validation, \n",
    "# We proceed to use the whole dataset to generate a model for long-term ridership prediction. \n",
    "\n",
    "long_term_member_model = sm.OLS(y, X)\n",
    "results_long_member = long_term_member_model.fit()\n",
    "print(results_long_member.summary())"
   ]
  },
  {
   "cell_type": "code",
   "execution_count": null,
   "metadata": {},
   "outputs": [],
   "source": [
    "### Cross validating the regression model for long-term member ridership\n",
    "X = long_term_casual_df.iloc[:, 2:]\n",
    "X['const'] = 1\n",
    "y = long_term_casual_df.iloc[:, 1]\n",
    "\n",
    "model = LinearRegression()\n",
    "R2s = []\n",
    "RMSEs = []\n",
    "kfold = KFold(n_splits=4, shuffle=True, random_state=42)\n",
    "for i, (train, test) in enumerate(kfold.split(X, y)):\n",
    "    model.fit(X.iloc[train,:], y.iloc[train])\n",
    "    # Obtain the R squared score\n",
    "    score = model.score(X.iloc[test,:], y.iloc[test])\n",
    "    R2s.append(score)\n",
    "    \n",
    "    # Obtain the RMSE of the model\n",
    "    y_pred = model.predict(X.iloc[test,:])\n",
    "    rms = mean_squared_error(y.iloc[test], y_pred, squared=False)\n",
    "    RMSEs.append(rms)\n",
    "print(\"The R squared of k-fold cross validation scores are:\", R2s)\n",
    "print(\"The RMSE of k-fold cross validation scores are:\", RMSEs)"
   ]
  },
  {
   "cell_type": "code",
   "execution_count": null,
   "metadata": {},
   "outputs": [],
   "source": [
    "# Since the prediction accuracy is pretty good as shown in the cross validation, \n",
    "# We proceed to use the whole dataset to generate a model for long-term ridership prediction. \n",
    "\n",
    "long_term_casual = sm.OLS(y, X)\n",
    "results_long_casual = long_term_casual.fit()\n",
    "print(results_long_casual.summary())"
   ]
  },
  {
   "cell_type": "markdown",
   "metadata": {},
   "source": [
    "### Section 3. Short-term ridership modelling\n",
    "\n",
    "Model the daily Bike Share ridership based on various features such as holiday, weekend, temperature, precipitation, etc. This model is appropriate for predicting the next-day ridership, given the weather forecast information is available."
   ]
  },
  {
   "cell_type": "code",
   "execution_count": null,
   "metadata": {},
   "outputs": [],
   "source": [
    "# Convert the datetime variable to date for pivotting. \n",
    "df_total['date'] = df_total['trip_start_time'].dt.date\n",
    "daily_ridership = df_total.pivot_table(values='trip_id', index=['date', 'user_type'], aggfunc='count')\n",
    "daily_ridership = daily_ridership.reset_index()\n",
    "\n",
    "### Adding attributes into the dataframe. \n",
    "## Add the month and year variable to be inner joined with the num_stations_month dataframe. \n",
    "daily_ridership['month'] = pd.DatetimeIndex(daily_ridership['date']).month\n",
    "daily_ridership['year'] = pd.DatetimeIndex(daily_ridership['date']).year\n",
    "daily_ridership = pd.merge(daily_ridership, num_stations_month, on = ['year','month'], how='inner')\n",
    "\n",
    "## Add weather variables into the dataframe\n",
    "# Load the weather dataset\n",
    "w2017 = pd.read_csv('Toronto Weather Data/TorontoWeather2017.csv', skiprows=1)\n",
    "w2018 = pd.read_csv('Toronto Weather Data/TorontoWeather2018.csv', skiprows=1)\n",
    "w2019 = pd.read_csv('Toronto Weather Data/TorontoWeather2019.csv', skiprows=1)\n",
    "w2020 = pd.read_csv('Toronto Weather Data/TorontoWeather2020.csv')\n",
    "\n",
    "# Concatenate all four dataframes\n",
    "frames = [w2017, w2018, w2019, w2020]\n",
    "toronto_weather = pd.concat(frames)\n",
    "\n",
    "# Clean up the dataframes and convert the date variable from object to proper date type\n",
    "toronto_weather = toronto_weather.drop(['wdir', 'wpgt','pres','tsun'], axis = 1)\n",
    "toronto_weather = toronto_weather.fillna(0)\n",
    "toronto_weather['date'] = toronto_weather['date'].astype('datetime64[ns]').dt.date\n",
    "\n",
    "daily_ridership = pd.merge(daily_ridership, toronto_weather, on = ['date'], how='inner')\n",
    "\n",
    "# Convert month into strings. \n",
    "daily_ridership['str_month'] = daily_ridership['month'].apply(lambda x: calendar.month_abbr[x])\n",
    "\n",
    "daily_ridership.head(5)"
   ]
  },
  {
   "cell_type": "code",
   "execution_count": null,
   "metadata": {},
   "outputs": [],
   "source": [
    "# Split the daily ridership dataframe into casual members and annual members. \n",
    "daily_ridership_casual = daily_ridership[daily_ridership['user_type'] == 'Casual Member']\n",
    "daily_ridership_casual['weekday'] = ((pd.DatetimeIndex(daily_ridership_casual.date).dayofweek) // 5 == 1).astype(float)\n",
    "daily_ridership_casual = daily_ridership_casual.drop(['user_type', 'month', 'year','date'], axis = 1)\n",
    "\n",
    "# Create one-day lag variable.\n",
    "daily_ridership_casual['one_day_lag'] = daily_ridership_casual.trip_id.shift(1)\n",
    "daily_ridership_casual.one_day_lag.fillna(daily_ridership_casual.trip_id, inplace=True)\n",
    "\n",
    "daily_ridership_member = daily_ridership[daily_ridership['user_type'] == 'Annual Member']\n",
    "daily_ridership_member['weekday'] = ((pd.DatetimeIndex(daily_ridership_member.date).dayofweek) // 5 == 1).astype(float)\n",
    "daily_ridership_member = daily_ridership_member.drop(['user_type', 'month', 'year', 'date'], axis = 1)\n",
    "\n",
    "# Create one-day lag variable.\n",
    "daily_ridership_member['one_day_lag'] = daily_ridership_member.trip_id.shift(1)\n",
    "daily_ridership_member.one_day_lag.fillna(daily_ridership_member.trip_id, inplace=True)\n",
    "\n",
    "# Formulate the dataframe for regression. \n",
    "short_term_casual_regression = pd.get_dummies(daily_ridership_casual)\n",
    "short_term_casual_regression['constant'] = 1\n",
    "short_term_casual_regression = short_term_casual_regression.drop(['str_month_Jan'], axis = 1)\n",
    "short_term_member_regression = pd.get_dummies(daily_ridership_member)\n",
    "short_term_member_regression['constant'] = 1\n",
    "short_term_member_regression = short_term_member_regression.drop(['str_month_Jan'], axis = 1)\n",
    "\n",
    "short_term_casual_regression.head(5)"
   ]
  },
  {
   "cell_type": "code",
   "execution_count": null,
   "metadata": {
    "scrolled": true
   },
   "outputs": [],
   "source": [
    "X = short_term_casual_regression.iloc[:, 1:]\n",
    "y = short_term_casual_regression.iloc[:, 0]\n",
    "\n",
    "model = LinearRegression()\n",
    "R2s = []\n",
    "RMSEs = []\n",
    "kfold = KFold(n_splits=4, shuffle=True, random_state=42)\n",
    "for i, (train, test) in enumerate(kfold.split(X, y)):\n",
    "    model.fit(X.iloc[train,:], y.iloc[train])\n",
    "    # Obtain the R squared score\n",
    "    score = model.score(X.iloc[test,:], y.iloc[test])\n",
    "    R2s.append(score)\n",
    "    \n",
    "    # Obtain the RMSE of the model\n",
    "    y_pred = model.predict(X.iloc[test,:])\n",
    "    rms = mean_squared_error(y.iloc[test], y_pred, squared=False)\n",
    "    RMSEs.append(rms)\n",
    "print(\"The R squared of k-fold cross validation scores are:\", R2s)\n",
    "print(\"The RMSE of k-fold cross validation scores are:\", RMSEs)"
   ]
  },
  {
   "cell_type": "code",
   "execution_count": null,
   "metadata": {
    "scrolled": false
   },
   "outputs": [],
   "source": [
    "# Since the prediction accuracy is pretty good as shown in the cross validation, \n",
    "# We proceed to use the whole dataset to generate a model for long-term ridership prediction. \n",
    "\n",
    "short_term_model = sm.OLS(y, X)\n",
    "results_short = short_term_model.fit()\n",
    "print(results_short.summary())"
   ]
  },
  {
   "cell_type": "code",
   "execution_count": null,
   "metadata": {},
   "outputs": [],
   "source": [
    "X = short_term_member_regression.iloc[:, 1:]\n",
    "y = short_term_member_regression.iloc[:, 0]\n",
    "\n",
    "model = LinearRegression()\n",
    "R2s = []\n",
    "RMSEs = []\n",
    "kfold = KFold(n_splits=4, shuffle=True, random_state=42)\n",
    "for i, (train, test) in enumerate(kfold.split(X, y)):\n",
    "    model.fit(X.iloc[train,:], y.iloc[train])\n",
    "    # Obtain the R squared score\n",
    "    score = model.score(X.iloc[test,:], y.iloc[test])\n",
    "    R2s.append(score)\n",
    "    \n",
    "    # Obtain the RMSE of the model\n",
    "    y_pred = model.predict(X.iloc[test,:])\n",
    "    rms = mean_squared_error(y.iloc[test], y_pred, squared=False)\n",
    "    RMSEs.append(rms)\n",
    "print(\"The R squared of k-fold cross validation scores are:\", R2s)\n",
    "print(\"The RMSE of k-fold cross validation scores are:\", RMSEs)"
   ]
  },
  {
   "cell_type": "code",
   "execution_count": null,
   "metadata": {},
   "outputs": [],
   "source": [
    "# Since the prediction accuracy is pretty good as shown in the cross validation, \n",
    "# We proceed to use the whole dataset to generate a model for long-term ridership prediction. \n",
    "\n",
    "short_term_model = sm.OLS(y, X)\n",
    "results_short = short_term_model.fit()\n",
    "print(results_short.summary())"
   ]
  },
  {
   "cell_type": "markdown",
   "metadata": {},
   "source": [
    "### Step 4. Bike Share Dock Planning"
   ]
  },
  {
   "cell_type": "code",
   "execution_count": null,
   "metadata": {},
   "outputs": [],
   "source": [
    "def onelistmaker(n):\n",
    "    listofzeros = [1] * n\n",
    "    return listofzeros\n",
    "\n",
    "month_values = onelistmaker(12)\n",
    "\n",
    "X = long_term_member_df.iloc[:,2:15]\n",
    "\n",
    "# Create monthly dummy variables.\n",
    "X_pred = pd.DataFrame(np.diag(month_values),index=list(X.columns)[1:],columns=list(X.columns)[1:])\n",
    "X_pred = X_pred.reset_index()\n",
    "X_pred['const'] = 1\n",
    "del X_pred['index']\n",
    "\n",
    "# Create the preliminary station counts\n",
    "station_num_int = 620\n",
    "X_pred[list(X.columns)[0]] = station_num_int\n",
    "X_increment = X_pred.copy()\n",
    "\n",
    "while station_num_int <= 900:\n",
    "    station_num_int += 50\n",
    "    X_increment[list(X.columns)[0]] = station_num_int\n",
    "    frames = [X_increment, X_pred]\n",
    "    X_pred = pd.concat(frames)\n",
    "    \n",
    "# Place the yearly lagged variable into the X_pred dataframe\n",
    "prev_year_ridership = list(long_term_member_df[long_term_member_df['year'] == 2020]['trip_id'])\n",
    "months = []\n",
    "for i in range(12):\n",
    "    months.append(i+1)\n",
    "d = {'month': months, 'one_year_lag': prev_year_ridership}\n",
    "lag_df = pd.DataFrame(data=d)\n",
    "lag_df['month'] = lag_df['month'].apply(lambda x: calendar.month_abbr[x])\n",
    "lag_df_final = pd.get_dummies(lag_df)\n",
    "X_pred = pd.merge(X_pred, lag_df_final, on = list(lag_df_final.columns)[1:], how='inner')\n",
    "\n",
    "# Rearrange the order of columns.\n",
    "X_pred = X_pred[['actual_num_stations', 'month_Apr', 'month_Aug', 'month_Dec', 'month_Feb', 'month_Jan',\n",
    "       'month_Jul', 'month_Jun', 'month_Mar', 'month_May', 'month_Nov',\n",
    "       'month_Oct', 'month_Sep', 'one_year_lag','const']]\n",
    "\n",
    "X_pred.head(5)"
   ]
  },
  {
   "cell_type": "code",
   "execution_count": null,
   "metadata": {},
   "outputs": [],
   "source": [
    "y_pred_member = results_long_member.predict(X_pred)\n",
    "y_pred_casual = results_long_casual.predict(X_pred)\n",
    "\n",
    "X_pred['predicted_member_ridership'] = y_pred_member\n",
    "X_pred['predicted_casual_ridership'] = y_pred_casual\n",
    "X_pred['predicted_ridership'] = X_pred['predicted_casual_ridership']+ X_pred['predicted_member_ridership']\n",
    "\n",
    "X_pred['month_Apr'] = X_pred['month_Apr']*4\n",
    "X_pred['month_Dec'] = X_pred['month_Dec']*12\n",
    "X_pred['month_Aug'] = X_pred['month_Aug']*8\n",
    "X_pred['month_Feb'] = X_pred['month_Feb']*2\n",
    "X_pred['month_Jul'] = X_pred['month_Jul']*7\n",
    "X_pred['month_Jun'] = X_pred['month_Jun']*6\n",
    "X_pred['month_Mar'] = X_pred['month_Mar']*3\n",
    "X_pred['month_May'] = X_pred['month_May']*5\n",
    "X_pred['month_Nov'] = X_pred['month_Nov']*11\n",
    "X_pred['month_Oct'] = X_pred['month_Oct']*10\n",
    "X_pred['month_Sep'] = X_pred['month_Sep']*9\n",
    "X_pred['month'] = X_pred.iloc[:, 1:13].sum(axis=1)\n",
    "\n",
    "X_pred.head(5)"
   ]
  },
  {
   "cell_type": "code",
   "execution_count": null,
   "metadata": {},
   "outputs": [],
   "source": [
    "X_pred_filtered = X_pred[['actual_num_stations','month','predicted_ridership']]\n",
    "plot_df = X_pred_filtered.pivot(index='month', columns='actual_num_stations', values='predicted_ridership')\n",
    "plot_df.plot()"
   ]
  },
  {
   "cell_type": "markdown",
   "metadata": {},
   "source": [
    "It often surprises city officials to learn that a typical cost for a docked system is around $US6,000–$US10,000 per bike, including docking infrastructure. Using 1.26 exchange rate on 2021-07-21, assuming installation cost is $US7,000 per bike and there are 10 bikes stored on each docking station, each dock will cost $CA 88,200"
   ]
  },
  {
   "cell_type": "code",
   "execution_count": null,
   "metadata": {},
   "outputs": [],
   "source": [
    "X_pred_profitability = X_pred[['actual_num_stations','month','predicted_ridership']]\n",
    "\n",
    "# Calculate the revenue from ridership\n",
    "X_pred_profitability['estimate_revenue'] = X_pred_profitability['predicted_ridership']*3.25\n",
    "\n",
    "profitablity_df = X_pred_profitability.pivot_table(values='estimate_revenue', index=['actual_num_stations'], aggfunc=np.sum)\n",
    "profitablity_df = profitablity_df.reset_index()\n",
    "\n",
    "profitablity_df['installation cost'] = (profitablity_df['actual_num_stations']-620)*88200\n",
    "profitablity_df['profit'] = profitablity_df['estimate_revenue'] - profitablity_df['installation cost']\n",
    "profitablity_df"
   ]
  },
  {
   "cell_type": "markdown",
   "metadata": {},
   "source": []
  },
  {
   "cell_type": "code",
   "execution_count": null,
   "metadata": {},
   "outputs": [],
   "source": []
  },
  {
   "cell_type": "code",
   "execution_count": null,
   "metadata": {},
   "outputs": [],
   "source": []
  }
 ],
 "metadata": {
  "kernelspec": {
   "display_name": "Python 3",
   "language": "python",
   "name": "python3"
  },
  "language_info": {
   "codemirror_mode": {
    "name": "ipython",
    "version": 3
   },
   "file_extension": ".py",
   "mimetype": "text/x-python",
   "name": "python",
   "nbconvert_exporter": "python",
   "pygments_lexer": "ipython3",
   "version": "3.8.5"
  }
 },
 "nbformat": 4,
 "nbformat_minor": 5
}
